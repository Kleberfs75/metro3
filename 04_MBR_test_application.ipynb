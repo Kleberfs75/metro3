{
 "cells": [
  {
   "cell_type": "markdown",
   "metadata": {},
   "source": [
    "## Test Flask App\n",
    "From the other notebook, `03_MBR_run_application.ipynb`, the flask app is running and ready to serve requests using python http or `curl` statements."
   ]
  },
  {
   "cell_type": "markdown",
   "metadata": {},
   "source": [
    "We can start by testing that the server is indeed running:"
   ]
  },
  {
   "cell_type": "code",
   "execution_count": 2,
   "metadata": {
    "ExecuteTime": {
     "end_time": "2021-04-13T20:19:12.719421Z",
     "start_time": "2021-04-13T20:19:12.076099Z"
    },
    "scrolled": true
   },
   "outputs": [
    {
     "name": "stdout",
     "output_type": "stream",
     "text": [
      "{\n",
      "  \"status\": \"ok\"\n",
      "}\n"
     ]
    }
   ],
   "source": [
    "!curl http://localhost:5000/status"
   ]
  },
  {
   "cell_type": "markdown",
   "metadata": {},
   "source": [
    "Now we can use curl to send the name of an image, and wait for the result:"
   ]
  },
  {
   "cell_type": "code",
   "execution_count": 5,
   "metadata": {
    "ExecuteTime": {
     "end_time": "2021-04-13T20:19:54.309066Z",
     "start_time": "2021-04-13T20:19:49.337731Z"
    }
   },
   "outputs": [
    {
     "name": "stdout",
     "output_type": "stream",
     "text": [
      "curl: (7) Failed to connect to localhost port 5000: Connection refused\n"
     ]
    }
   ],
   "source": [
    "!curl -X POST -H \"Content-Type: application/json\" --data '{\"data\": \"brake feels spongy when pressed\"}' http://localhost:5000/predictions"
   ]
  },
  {
   "cell_type": "markdown",
   "metadata": {},
   "source": [
    "We could also do it using pure Python code:"
   ]
  },
  {
   "cell_type": "code",
   "execution_count": 3,
   "metadata": {
    "ExecuteTime": {
     "end_time": "2021-04-13T20:20:35.813968Z",
     "start_time": "2021-04-13T20:20:34.089627Z"
    }
   },
   "outputs": [
    {
     "data": {
      "text/plain": [
       "{'prediction': 'brakes'}"
      ]
     },
     "execution_count": 3,
     "metadata": {},
     "output_type": "execute_result"
    }
   ],
   "source": [
    "import requests\n",
    "import json\n",
    "response = requests.post('http://127.0.0.1:5000/prediction', '{\"data\": \"I press on the brakes and nothing happens\"}')\n",
    "response.json()"
   ]
  },
  {
   "cell_type": "code",
   "execution_count": 5,
   "metadata": {},
   "outputs": [
    {
     "name": "stdout",
     "output_type": "stream",
     "text": [
      "Package                 Version\n",
      "----------------------- ----------\n",
      "Cython                  0.29.22\n",
      "dill                    0.3.3\n",
      "distributed             2021.4.0\n",
      "Flask                   2.0.1\n",
      "greenlet                1.0.0\n",
      "gunicorn                20.1.0\n",
      "jupyter-bokeh           3.0.0\n",
      "jupyter-kernel-gateway  2.4.0\n",
      "jupyter-nbrequirements  0.7.3\n",
      "jupyter-server-mathjax  0.2.2\n",
      "jupyter-tensorboard     0.2.0\n",
      "jupyterhub              1.3.0\n",
      "jupyterlab-git          0.30.0b2\n",
      "jupyterlab-requirements 0.6.4\n",
      "kafka-python            2.0.2\n",
      "markovify               0.9.0\n",
      "mod-wsgi                4.6.8\n",
      "pipenv                  2020.11.15\n",
      "plotly                  4.14.3\n",
      "pyarrow                 3.0.0\n",
      "pytest                  6.2.4\n",
      "regex                   2021.7.6\n",
      "s3fs                    0.3.4\n",
      "scikit-image            0.18.1\n",
      "scikit-learn            0.24.1\n",
      "seaborn                 0.11.1\n",
      "spacy                   3.1.0\n",
      "statsmodels             0.10.2\n",
      "supervisor              4.1.0\n",
      "tensorflow-gpu          2.4.1\n",
      "tensorflow-hub          0.12.0\n"
     ]
    }
   ],
   "source": [
    "!pip list --not-required"
   ]
  },
  {
   "cell_type": "code",
   "execution_count": 6,
   "metadata": {},
   "outputs": [
    {
     "name": "stdout",
     "output_type": "stream",
     "text": [
      "Package                           Version\n",
      "--------------------------------- -----------\n",
      "absl-py                           0.12.0\n",
      "aiohttp                           3.7.4.post0\n",
      "alembic                           1.5.8\n",
      "anyio                             2.2.0\n",
      "appdirs                           1.4.4\n",
      "argo-workflows                    3.6.1\n",
      "argon2-cffi                       20.1.0\n",
      "astunparse                        1.6.3\n",
      "async-generator                   1.10\n",
      "async-timeout                     3.0.1\n",
      "attrdict                          2.0.1\n",
      "attrs                             20.3.0\n",
      "Babel                             2.9.0\n",
      "backcall                          0.2.0\n",
      "beautifulsoup4                    4.8.2\n",
      "bleach                            3.3.0\n",
      "blis                              0.7.4\n",
      "bokeh                             2.3.0\n",
      "boto3                             1.17.11\n",
      "botocore                          1.20.45\n",
      "cachetools                        4.2.1\n",
      "catalogue                         2.0.4\n",
      "certifi                           2020.12.5\n",
      "certipy                           0.1.3\n",
      "cffi                              1.14.5\n",
      "chardet                           4.0.0\n",
      "click                             7.1.2\n",
      "cloudpickle                       1.5.0\n",
      "colorama                          0.4.4\n",
      "commonmark                        0.9.1\n",
      "cryptography                      3.4.7\n",
      "csscompressor                     0.9.5\n",
      "cycler                            0.10.0\n",
      "cymem                             2.0.5\n",
      "Cython                            0.29.22\n",
      "daiquiri                          3.0.0\n",
      "dask                              2021.4.0\n",
      "decorator                         4.4.2\n",
      "defusedxml                        0.7.1\n",
      "delegator.py                      0.1.1\n",
      "deprecation                       2.1.0\n",
      "dictdiffer                        0.8.1\n",
      "dill                              0.3.3\n",
      "distlib                           0.3.1\n",
      "distributed                       2021.4.0\n",
      "distro                            1.5.0\n",
      "entrypoints                       0.3\n",
      "filelock                          3.0.12\n",
      "Flask                             2.0.1\n",
      "flatbuffers                       1.12\n",
      "fsspec                            0.9.0\n",
      "gast                              0.3.3\n",
      "gitdb                             4.0.7\n",
      "GitPython                         3.1.14\n",
      "google-auth                       1.28.0\n",
      "google-auth-oauthlib              0.4.4\n",
      "google-pasta                      0.2.0\n",
      "greenlet                          1.0.0\n",
      "grpcio                            1.32.0\n",
      "gunicorn                          20.1.0\n",
      "h5py                              2.10.0\n",
      "HeapDict                          1.0.1\n",
      "idna                              2.10\n",
      "imageio                           2.9.0\n",
      "iniconfig                         1.1.1\n",
      "invectio                          0.1.0\n",
      "ipykernel                         5.5.3\n",
      "ipython                           7.22.0\n",
      "ipython-genutils                  0.2.0\n",
      "ipywidgets                        7.6.3\n",
      "itsdangerous                      2.0.1\n",
      "jedi                              0.18.0\n",
      "Jinja2                            3.0.1\n",
      "jmespath                          0.10.0\n",
      "joblib                            1.0.1\n",
      "json5                             0.9.5\n",
      "jsonformatter                     0.3.1\n",
      "jsonschema                        3.2.0\n",
      "jupyter-bokeh                     3.0.0\n",
      "jupyter-client                    6.1.12\n",
      "jupyter-contrib-core              0.3.3\n",
      "jupyter-contrib-nbextensions      0.5.1\n",
      "jupyter-core                      4.7.1\n",
      "jupyter-highlight-selected-word   0.2.0\n",
      "jupyter-kernel-gateway            2.4.0\n",
      "jupyter-latex-envs                1.4.6\n",
      "jupyter-nbextensions-configurator 0.4.1\n",
      "jupyter-nbrequirements            0.7.3\n",
      "jupyter-nbutils                   0.1.3\n",
      "jupyter-packaging                 0.9.1\n",
      "jupyter-require                   0.6.1\n",
      "jupyter-server                    1.5.1\n",
      "jupyter-server-mathjax            0.2.2\n",
      "jupyter-telemetry                 0.1.0\n",
      "jupyter-tensorboard               0.2.0\n",
      "jupyterhub                        1.3.0\n",
      "jupyterlab                        3.0.14\n",
      "jupyterlab-git                    0.30.0b2\n",
      "jupyterlab-pygments               0.1.2\n",
      "jupyterlab-requirements           0.6.4\n",
      "jupyterlab-server                 2.4.0\n",
      "jupyterlab-widgets                1.0.0\n",
      "kafka-python                      2.0.2\n",
      "Keras-Preprocessing               1.1.2\n",
      "kiwisolver                        1.3.1\n",
      "kubernetes                        11.0.0\n",
      "locket                            0.2.1\n",
      "lxml                              4.6.3\n",
      "Mako                              1.1.4\n",
      "Markdown                          3.3.4\n",
      "markovify                         0.9.0\n",
      "MarkupSafe                        2.0.1\n",
      "matplotlib                        3.1.3\n",
      "micropipenv                       1.0.3\n",
      "mistune                           0.8.4\n",
      "mock                              4.0.3\n",
      "mod-wsgi                          4.6.8\n",
      "msgpack                           1.0.2\n",
      "multidict                         5.1.0\n",
      "murmurhash                        1.0.5\n",
      "nbclassic                         0.2.7\n",
      "nbclient                          0.5.3\n",
      "nbconvert                         6.0.7\n",
      "nbdime                            3.0.0b1\n",
      "nbformat                          5.1.3\n",
      "nest-asyncio                      1.5.1\n",
      "networkx                          2.5.1\n",
      "notebook                          6.3.0\n",
      "numpy                             1.19.5\n",
      "oauthlib                          3.1.0\n",
      "openshift                         0.11.0\n",
      "opt-einsum                        3.3.0\n",
      "packaging                         20.9\n",
      "pamela                            1.0.0\n",
      "pandas                            0.25.3\n",
      "pandocfilters                     1.4.3\n",
      "parso                             0.8.2\n",
      "partd                             1.1.0\n",
      "pathy                             0.6.0\n",
      "patsy                             0.5.1\n",
      "pexpect                           4.8.0\n",
      "pickleshare                       0.7.5\n",
      "Pillow                            8.2.0\n",
      "pip                               21.1.3\n",
      "pipenv                            2020.11.15\n",
      "plotly                            4.14.3\n",
      "pluggy                            0.13.1\n",
      "preshed                           3.0.5\n",
      "prometheus-client                 0.10.0\n",
      "prompt-toolkit                    3.0.18\n",
      "protobuf                          3.15.7\n",
      "psutil                            5.8.0\n",
      "ptyprocess                        0.7.0\n",
      "py                                1.10.0\n",
      "pyarrow                           3.0.0\n",
      "pyasn1                            0.4.8\n",
      "pyasn1-modules                    0.2.8\n",
      "pycparser                         2.20\n",
      "pydantic                          1.8.2\n",
      "pyelftools                        0.27\n",
      "Pygments                          2.8.1\n",
      "pyOpenSSL                         20.0.1\n",
      "pyparsing                         2.4.7\n",
      "pyrsistent                        0.17.3\n",
      "pytest                            6.2.4\n",
      "python-dateutil                   2.8.1\n",
      "python-editor                     1.0.4\n",
      "python-json-logger                2.0.1\n",
      "python-string-utils               1.0.0\n",
      "pytz                              2021.1\n",
      "PyWavelets                        1.1.1\n",
      "PyYAML                            5.4.1\n",
      "pyzmq                             22.0.3\n",
      "regex                             2021.7.6\n",
      "requests                          2.25.1\n",
      "requests-oauthlib                 1.3.0\n",
      "retrying                          1.3.3\n",
      "rfc5424-logging-handler           1.4.3\n",
      "rich                              10.1.0\n",
      "rsa                               4.7.2\n",
      "ruamel.yaml                       0.17.4\n",
      "ruamel.yaml.clib                  0.2.2\n",
      "s3fs                              0.3.4\n",
      "s3transfer                        0.3.6\n",
      "scikit-image                      0.18.1\n",
      "scikit-learn                      0.24.1\n",
      "scipy                             1.6.2\n",
      "seaborn                           0.11.1\n",
      "semantic-version                  2.8.5\n",
      "Send2Trash                        1.5.0\n",
      "sentry-sdk                        1.0.0\n",
      "setuptools                        57.0.0\n",
      "six                               1.15.0\n",
      "smart-open                        5.1.0\n",
      "smmap                             4.0.0\n",
      "sniffio                           1.2.0\n",
      "sortedcontainers                  2.3.0\n",
      "soupsieve                         2.2.1\n",
      "spacy                             3.1.0\n",
      "spacy-legacy                      3.0.8\n",
      "SQLAlchemy                        1.3.24\n",
      "srsly                             2.4.1\n",
      "statsmodels                       0.10.2\n",
      "supervisor                        4.1.0\n",
      "tblib                             1.7.0\n",
      "tensorboard                       2.4.1\n",
      "tensorboard-plugin-wit            1.8.0\n",
      "tensorflow-estimator              2.4.0\n",
      "tensorflow-gpu                    2.4.1\n",
      "tensorflow-hub                    0.12.0\n",
      "termcolor                         1.1.0\n",
      "terminado                         0.9.4\n",
      "testpath                          0.4.4\n",
      "thamos                            1.17.0\n",
      "thinc                             8.0.7\n",
      "thoth-analyzer                    0.1.8\n",
      "thoth-common                      0.28.0\n",
      "thoth-python                      0.15.6\n",
      "threadpoolctl                     2.1.0\n",
      "tifffile                          2021.3.31\n",
      "toml                              0.10.2\n",
      "tomlkit                           0.7.0\n",
      "toolz                             0.11.1\n",
      "tornado                           6.1\n",
      "tqdm                              4.61.2\n",
      "traitlets                         5.0.5\n",
      "typer                             0.3.2\n",
      "typing-extensions                 3.7.4.3\n",
      "tzlocal                           2.1\n",
      "Unidecode                         1.2.0\n",
      "urllib3                           1.26.4\n",
      "virtualenv                        20.4.3\n",
      "virtualenv-clone                  0.5.4\n",
      "wasabi                            0.8.2\n",
      "wcwidth                           0.2.5\n",
      "webencodings                      0.5.1\n",
      "websocket-client                  0.58.0\n",
      "Werkzeug                          2.0.1\n",
      "wheel                             0.36.2\n",
      "widgetsnbextension                3.5.1\n",
      "wrapt                             1.12.1\n",
      "yarl                              1.6.3\n",
      "yaspin                            1.5.0\n",
      "zict                              2.0.0\n"
     ]
    }
   ],
   "source": [
    "!pip list"
   ]
  },
  {
   "cell_type": "markdown",
   "metadata": {},
   "source": [
    "You can experiment with other images that you will find inside the dataset/images folder.\n",
    "If you want, you can even upload your own images in this folder and make some experiments!\n",
    "\n",
    "When you're finished, you can go back to the instuctions for the conclusion of this workshop."
   ]
  }
 ],
 "metadata": {
  "accelerator": "GPU",
  "colab": {
   "collapsed_sections": [],
   "name": "Object detection",
   "private_outputs": true,
   "provenance": [],
   "toc_visible": true
  },
  "finalized": {
   "timestamp": 1618345401677,
   "trusted": true
  },
  "kernelspec": {
   "display_name": "Python 3",
   "language": "python",
   "name": "python3"
  },
  "language_info": {
   "codemirror_mode": {
    "name": "ipython",
    "version": 3
   },
   "file_extension": ".py",
   "mimetype": "text/x-python",
   "name": "python",
   "nbconvert_exporter": "python",
   "pygments_lexer": "ipython3",
   "version": "3.8.6"
  },
  "toc": {
   "base_numbering": 1,
   "nav_menu": {},
   "number_sections": true,
   "sideBar": true,
   "skip_h1_title": false,
   "title_cell": "Table of Contents",
   "title_sidebar": "Contents",
   "toc_cell": false,
   "toc_position": {},
   "toc_section_display": true,
   "toc_window_display": false
  }
 },
 "nbformat": 4,
 "nbformat_minor": 4
}
