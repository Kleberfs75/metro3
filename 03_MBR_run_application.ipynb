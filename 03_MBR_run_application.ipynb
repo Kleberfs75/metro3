{
 "cells": [
  {
   "cell_type": "markdown",
   "metadata": {},
   "source": [
    "## Flask\n",
    "Our API will be served directly from our container using Flask, a popular Python Web Server.\n",
    "The Flask application, which will call our prediction function, is defined in the `wsgi.py` file."
   ]
  },
  {
   "cell_type": "markdown",
   "metadata": {},
   "source": [
    "As always, we'll first run some imports to make sure all our requirements are there:"
   ]
  },
  {
   "cell_type": "code",
   "execution_count": 1,
   "metadata": {
    "ExecuteTime": {
     "end_time": "2021-04-13T19:39:12.918898Z",
     "start_time": "2021-04-13T19:38:57.226296Z"
    }
   },
   "outputs": [
    {
     "name": "stdout",
     "output_type": "stream",
     "text": [
      "Requirement already satisfied: Flask in /opt/app-root/lib/python3.8/site-packages (from -r requirements.txt (line 1)) (2.0.1)\n",
      "Requirement already satisfied: gunicorn>=20.0.0 in /opt/app-root/lib/python3.8/site-packages (from -r requirements.txt (line 2)) (20.1.0)\n",
      "Requirement already satisfied: markovify in /opt/app-root/lib/python3.8/site-packages (from -r requirements.txt (line 3)) (0.9.0)\n",
      "Requirement already satisfied: matplotlib in /opt/app-root/lib/python3.8/site-packages (from -r requirements.txt (line 4)) (3.1.3)\n",
      "Requirement already satisfied: numpy in /opt/app-root/lib/python3.8/site-packages (from -r requirements.txt (line 5)) (1.19.5)\n",
      "Requirement already satisfied: pandas in /opt/app-root/lib/python3.8/site-packages (from -r requirements.txt (line 6)) (0.25.3)\n",
      "Requirement already satisfied: pytest in /opt/app-root/lib/python3.8/site-packages (from -r requirements.txt (line 7)) (6.2.4)\n",
      "Requirement already satisfied: regex in /opt/app-root/lib/python3.8/site-packages (from -r requirements.txt (line 8)) (2021.7.6)\n",
      "Requirement already satisfied: scipy in /opt/app-root/lib/python3.8/site-packages (from -r requirements.txt (line 9)) (1.6.2)\n",
      "Requirement already satisfied: seaborn in /opt/app-root/lib/python3.8/site-packages (from -r requirements.txt (line 10)) (0.11.1)\n",
      "Requirement already satisfied: spacy in /opt/app-root/lib/python3.8/site-packages (from -r requirements.txt (line 11)) (3.1.0)\n",
      "Requirement already satisfied: tensorflow_hub in /opt/app-root/lib/python3.8/site-packages (from -r requirements.txt (line 12)) (0.12.0)\n",
      "Requirement already satisfied: wrapt in /opt/app-root/lib/python3.8/site-packages (from -r requirements.txt (line 13)) (1.12.1)\n",
      "Requirement already satisfied: setuptools>=3.0 in /opt/app-root/lib/python3.8/site-packages (from gunicorn>=20.0.0->-r requirements.txt (line 2)) (57.0.0)\n",
      "Requirement already satisfied: itsdangerous>=2.0 in /opt/app-root/lib/python3.8/site-packages (from Flask->-r requirements.txt (line 1)) (2.0.1)\n",
      "Requirement already satisfied: Jinja2>=3.0 in /opt/app-root/lib/python3.8/site-packages (from Flask->-r requirements.txt (line 1)) (3.0.1)\n",
      "Requirement already satisfied: Werkzeug>=2.0 in /opt/app-root/lib/python3.8/site-packages (from Flask->-r requirements.txt (line 1)) (2.0.1)\n",
      "Requirement already satisfied: click>=7.1.2 in /opt/app-root/lib/python3.8/site-packages (from Flask->-r requirements.txt (line 1)) (7.1.2)\n",
      "Requirement already satisfied: MarkupSafe>=2.0 in /opt/app-root/lib/python3.8/site-packages (from Jinja2>=3.0->Flask->-r requirements.txt (line 1)) (2.0.1)\n",
      "Requirement already satisfied: unidecode in /opt/app-root/lib/python3.8/site-packages (from markovify->-r requirements.txt (line 3)) (1.2.0)\n",
      "Requirement already satisfied: kiwisolver>=1.0.1 in /opt/app-root/lib/python3.8/site-packages (from matplotlib->-r requirements.txt (line 4)) (1.3.1)\n",
      "Requirement already satisfied: python-dateutil>=2.1 in /opt/app-root/lib/python3.8/site-packages (from matplotlib->-r requirements.txt (line 4)) (2.8.1)\n",
      "Requirement already satisfied: pyparsing!=2.0.4,!=2.1.2,!=2.1.6,>=2.0.1 in /opt/app-root/lib/python3.8/site-packages (from matplotlib->-r requirements.txt (line 4)) (2.4.7)\n",
      "Requirement already satisfied: cycler>=0.10 in /opt/app-root/lib/python3.8/site-packages (from matplotlib->-r requirements.txt (line 4)) (0.10.0)\n",
      "Requirement already satisfied: six in /opt/app-root/lib/python3.8/site-packages (from cycler>=0.10->matplotlib->-r requirements.txt (line 4)) (1.15.0)\n",
      "Requirement already satisfied: pytz>=2017.2 in /opt/app-root/lib/python3.8/site-packages (from pandas->-r requirements.txt (line 6)) (2021.1)\n",
      "Requirement already satisfied: py>=1.8.2 in /opt/app-root/lib/python3.8/site-packages (from pytest->-r requirements.txt (line 7)) (1.10.0)\n",
      "Requirement already satisfied: pluggy<1.0.0a1,>=0.12 in /opt/app-root/lib/python3.8/site-packages (from pytest->-r requirements.txt (line 7)) (0.13.1)\n",
      "Requirement already satisfied: attrs>=19.2.0 in /opt/app-root/lib/python3.8/site-packages (from pytest->-r requirements.txt (line 7)) (20.3.0)\n",
      "Requirement already satisfied: packaging in /opt/app-root/lib/python3.8/site-packages (from pytest->-r requirements.txt (line 7)) (20.9)\n",
      "Requirement already satisfied: iniconfig in /opt/app-root/lib/python3.8/site-packages (from pytest->-r requirements.txt (line 7)) (1.1.1)\n",
      "Requirement already satisfied: toml in /opt/app-root/lib/python3.8/site-packages (from pytest->-r requirements.txt (line 7)) (0.10.2)\n",
      "Requirement already satisfied: wasabi<1.1.0,>=0.8.1 in /opt/app-root/lib/python3.8/site-packages (from spacy->-r requirements.txt (line 11)) (0.8.2)\n",
      "Requirement already satisfied: spacy-legacy<3.1.0,>=3.0.7 in /opt/app-root/lib/python3.8/site-packages (from spacy->-r requirements.txt (line 11)) (3.0.8)\n",
      "Requirement already satisfied: typer<0.4.0,>=0.3.0 in /opt/app-root/lib/python3.8/site-packages (from spacy->-r requirements.txt (line 11)) (0.3.2)\n",
      "Requirement already satisfied: pydantic!=1.8,!=1.8.1,<1.9.0,>=1.7.4 in /opt/app-root/lib/python3.8/site-packages (from spacy->-r requirements.txt (line 11)) (1.8.2)\n",
      "Requirement already satisfied: preshed<3.1.0,>=3.0.2 in /opt/app-root/lib/python3.8/site-packages (from spacy->-r requirements.txt (line 11)) (3.0.5)\n",
      "Requirement already satisfied: murmurhash<1.1.0,>=0.28.0 in /opt/app-root/lib/python3.8/site-packages (from spacy->-r requirements.txt (line 11)) (1.0.5)\n",
      "Requirement already satisfied: catalogue<2.1.0,>=2.0.4 in /opt/app-root/lib/python3.8/site-packages (from spacy->-r requirements.txt (line 11)) (2.0.4)\n",
      "Requirement already satisfied: srsly<3.0.0,>=2.4.1 in /opt/app-root/lib/python3.8/site-packages (from spacy->-r requirements.txt (line 11)) (2.4.1)\n",
      "Requirement already satisfied: tqdm<5.0.0,>=4.38.0 in /opt/app-root/lib/python3.8/site-packages (from spacy->-r requirements.txt (line 11)) (4.61.2)\n",
      "Requirement already satisfied: cymem<2.1.0,>=2.0.2 in /opt/app-root/lib/python3.8/site-packages (from spacy->-r requirements.txt (line 11)) (2.0.5)\n",
      "Requirement already satisfied: blis<0.8.0,>=0.4.0 in /opt/app-root/lib/python3.8/site-packages (from spacy->-r requirements.txt (line 11)) (0.7.4)\n",
      "Requirement already satisfied: requests<3.0.0,>=2.13.0 in /opt/app-root/lib/python3.8/site-packages (from spacy->-r requirements.txt (line 11)) (2.25.1)\n",
      "Requirement already satisfied: pathy>=0.3.5 in /opt/app-root/lib/python3.8/site-packages (from spacy->-r requirements.txt (line 11)) (0.6.0)\n",
      "Requirement already satisfied: thinc<8.1.0,>=8.0.7 in /opt/app-root/lib/python3.8/site-packages (from spacy->-r requirements.txt (line 11)) (8.0.7)\n",
      "Requirement already satisfied: smart-open<6.0.0,>=5.0.0 in /opt/app-root/lib/python3.8/site-packages (from pathy>=0.3.5->spacy->-r requirements.txt (line 11)) (5.1.0)\n",
      "Requirement already satisfied: typing-extensions>=3.7.4.3 in /opt/app-root/lib/python3.8/site-packages (from pydantic!=1.8,!=1.8.1,<1.9.0,>=1.7.4->spacy->-r requirements.txt (line 11)) (3.7.4.3)\n",
      "Requirement already satisfied: certifi>=2017.4.17 in /opt/app-root/lib/python3.8/site-packages (from requests<3.0.0,>=2.13.0->spacy->-r requirements.txt (line 11)) (2020.12.5)\n",
      "Requirement already satisfied: chardet<5,>=3.0.2 in /opt/app-root/lib/python3.8/site-packages (from requests<3.0.0,>=2.13.0->spacy->-r requirements.txt (line 11)) (4.0.0)\n",
      "Requirement already satisfied: idna<3,>=2.5 in /opt/app-root/lib/python3.8/site-packages (from requests<3.0.0,>=2.13.0->spacy->-r requirements.txt (line 11)) (2.10)\n",
      "Requirement already satisfied: urllib3<1.27,>=1.21.1 in /opt/app-root/lib/python3.8/site-packages (from requests<3.0.0,>=2.13.0->spacy->-r requirements.txt (line 11)) (1.26.4)\n",
      "Requirement already satisfied: protobuf>=3.8.0 in /opt/app-root/lib/python3.8/site-packages (from tensorflow_hub->-r requirements.txt (line 12)) (3.15.7)\n"
     ]
    }
   ],
   "source": [
    "import sys\n",
    "!{sys.executable} -m pip install -r requirements.txt"
   ]
  },
  {
   "cell_type": "markdown",
   "metadata": {},
   "source": [
    "Now that we have everything in place, we can launch the Flask application.\n",
    "\n",
    "(Please ignore the CUDA errors of warning if you don't have any GPU).\n",
    "\n",
    "This cell will be in a **permanent running state**. That's normal as the webserver process will keep running. When you are **finished** with the test you can just select the cell, and click on the **Stop button** (next to Run)."
   ]
  },
  {
   "cell_type": "code",
   "execution_count": null,
   "metadata": {
    "ExecuteTime": {
     "end_time": "2021-04-13T20:22:18.706055Z",
     "start_time": "2021-04-13T20:12:31.112873Z"
    }
   },
   "outputs": [
    {
     "name": "stdout",
     "output_type": "stream",
     "text": [
      " * Serving Flask app 'wsgi.py' (lazy loading)\n",
      " * Environment: development\n",
      " * Debug mode: on\n",
      "2021-07-12 15:42:52.315843: I tensorflow/stream_executor/platform/default/dso_loader.cc:49] Successfully opened dynamic library libcudart.so.11.0\n",
      "2021-07-12 15:42:53.572540: I tensorflow/compiler/jit/xla_cpu_device.cc:41] Not creating XLA devices, tf_xla_enable_xla_devices not set\n",
      "2021-07-12 15:42:53.572837: W tensorflow/stream_executor/platform/default/dso_loader.cc:60] Could not load dynamic library 'libcuda.so.1'; dlerror: libcuda.so.1: cannot open shared object file: No such file or directory; LD_LIBRARY_PATH: /usr/local/nvidia/lib:/usr/local/nvidia/lib64\n",
      "2021-07-12 15:42:53.572856: W tensorflow/stream_executor/cuda/cuda_driver.cc:326] failed call to cuInit: UNKNOWN ERROR (303)\n",
      "2021-07-12 15:42:53.572984: I tensorflow/stream_executor/cuda/cuda_diagnostics.cc:156] kernel driver does not appear to be running on this host (jupyterhub-nb-adrezni): /proc/driver/nvidia/version does not exist\n",
      "2021-07-12 15:42:53.573174: I tensorflow/core/platform/cpu_feature_guard.cc:142] This TensorFlow binary is optimized with oneAPI Deep Neural Network Library (oneDNN) to use the following CPU instructions in performance-critical operations:  AVX2 AVX512F FMA\n",
      "To enable them in other operations, rebuild TensorFlow with the appropriate compiler flags.\n",
      "2021-07-12 15:42:53.574902: I tensorflow/compiler/jit/xla_gpu_device.cc:99] Not creating XLA devices, tf_xla_enable_xla_devices not set\n",
      "2021-07-12 15:42:53.635208: I tensorflow/compiler/mlir/mlir_graph_optimization_pass.cc:116] None of the MLIR optimization passes are enabled (registered 2)\n",
      "2021-07-12 15:42:53.647569: I tensorflow/core/platform/profile_utils/cpu_utils.cc:112] CPU Frequency: 2499995000 Hz\n",
      "Epoch 1/2\n",
      "23/23 [==============================] - 1s 25ms/step - loss: 0.9351 - accuracy: 0.6781 - val_loss: 0.4855 - val_accuracy: 0.9375\n",
      "Epoch 2/2\n",
      "23/23 [==============================] - 0s 5ms/step - loss: 0.3867 - accuracy: 0.9427 - val_loss: 0.2238 - val_accuracy: 0.9750\n",
      "7/7 [==============================] - 0s 844us/step - loss: 0.2099 - accuracy: 0.9850\n",
      " * Running on http://127.0.0.1:5000/ (Press CTRL+C to quit)\n",
      " * Restarting with stat\n",
      " * Debugger is active!\n",
      " * Debugger PIN: 142-848-342\n",
      "2021-07-12 15:43:00.733109: I tensorflow/stream_executor/platform/default/dso_loader.cc:49] Successfully opened dynamic library libcudart.so.11.0\n",
      "2021-07-12 15:43:02.054586: I tensorflow/compiler/jit/xla_cpu_device.cc:41] Not creating XLA devices, tf_xla_enable_xla_devices not set\n",
      "2021-07-12 15:43:02.054743: W tensorflow/stream_executor/platform/default/dso_loader.cc:60] Could not load dynamic library 'libcuda.so.1'; dlerror: libcuda.so.1: cannot open shared object file: No such file or directory; LD_LIBRARY_PATH: /usr/local/nvidia/lib:/usr/local/nvidia/lib64\n",
      "2021-07-12 15:43:02.054762: W tensorflow/stream_executor/cuda/cuda_driver.cc:326] failed call to cuInit: UNKNOWN ERROR (303)\n",
      "2021-07-12 15:43:02.054792: I tensorflow/stream_executor/cuda/cuda_diagnostics.cc:156] kernel driver does not appear to be running on this host (jupyterhub-nb-adrezni): /proc/driver/nvidia/version does not exist\n",
      "2021-07-12 15:43:02.054966: I tensorflow/core/platform/cpu_feature_guard.cc:142] This TensorFlow binary is optimized with oneAPI Deep Neural Network Library (oneDNN) to use the following CPU instructions in performance-critical operations:  AVX2 AVX512F FMA\n",
      "To enable them in other operations, rebuild TensorFlow with the appropriate compiler flags.\n",
      "2021-07-12 15:43:02.056526: I tensorflow/compiler/jit/xla_gpu_device.cc:99] Not creating XLA devices, tf_xla_enable_xla_devices not set\n",
      "2021-07-12 15:43:02.116621: I tensorflow/compiler/mlir/mlir_graph_optimization_pass.cc:116] None of the MLIR optimization passes are enabled (registered 2)\n",
      "2021-07-12 15:43:02.117027: I tensorflow/core/platform/profile_utils/cpu_utils.cc:112] CPU Frequency: 2499995000 Hz\n",
      "Epoch 1/2\n",
      "23/23 [==============================] - 1s 31ms/step - loss: 0.9598 - accuracy: 0.5906 - val_loss: 0.5271 - val_accuracy: 0.9000\n",
      "Epoch 2/2\n",
      "23/23 [==============================] - 0s 5ms/step - loss: 0.3979 - accuracy: 0.9657 - val_loss: 0.2377 - val_accuracy: 0.9750\n",
      "7/7 [==============================] - 0s 896us/step - loss: 0.2200 - accuracy: 0.9950\n",
      "127.0.0.1 - - [12/Jul/2021 15:43:19] \"GET /status HTTP/1.1\" 200 -\n",
      "WARNING:tensorflow:Model was constructed with shape (None, 1000) for input KerasTensor(type_spec=TensorSpec(shape=(None, 1000), dtype=tf.float32, name='dense_input'), name='dense_input', description=\"created by layer 'dense_input'\"), but it was called on an input with incompatible shape (None, 1, 1000).\n",
      "127.0.0.1 - - [12/Jul/2021 15:43:24] \"POST /prediction HTTP/1.1\" 200 -\n"
     ]
    }
   ],
   "source": [
    "!FLASK_ENV=development FLASK_APP=wsgi.py flask run"
   ]
  },
  {
   "cell_type": "markdown",
   "metadata": {},
   "source": [
    "Once the models have been loaded, our server is ready to take requests. Leave this notebook running,and open `04_MBR_test_application.ipynb`."
   ]
  }
 ],
 "metadata": {
  "finalized": {
   "timestamp": 1618345356814,
   "trusted": true
  },
  "kernelspec": {
   "display_name": "Python 3",
   "language": "python",
   "name": "python3"
  },
  "language_info": {
   "codemirror_mode": {
    "name": "ipython",
    "version": 3
   },
   "file_extension": ".py",
   "mimetype": "text/x-python",
   "name": "python",
   "nbconvert_exporter": "python",
   "pygments_lexer": "ipython3",
   "version": "3.8.6"
  },
  "toc": {
   "base_numbering": 1,
   "nav_menu": {},
   "number_sections": true,
   "sideBar": true,
   "skip_h1_title": false,
   "title_cell": "Table of Contents",
   "title_sidebar": "Contents",
   "toc_cell": false,
   "toc_position": {},
   "toc_section_display": true,
   "toc_window_display": false
  }
 },
 "nbformat": 4,
 "nbformat_minor": 4
}
