{
 "cells": [
  {
   "cell_type": "code",
   "execution_count": 2,
   "id": "9c427989-2091-4916-a388-d1015ded029a",
   "metadata": {},
   "outputs": [],
   "source": [
    "my_text = 'brakes squeal when the car stops'            #e.g. 'the brakes squeal when the car begins to stop'\n",
    "#my_route = 'your_service (http://...)'   #this is the route that was created in your OpenShift dedicated project\n",
    "my_route = 'http://metrobus-repairs-nlp-workshop-metrobus-repairs.apps.integrations.fb55.p1.openshiftapps.com/'"
   ]
  },
  {
   "cell_type": "code",
   "execution_count": 12,
   "id": "462aae17-f230-4b94-bc50-dbd3683896f1",
   "metadata": {},
   "outputs": [
    {
     "name": "stdout",
     "output_type": "stream",
     "text": [
      "b'<html>\\r\\n  <head>\\r\\n    <meta name=\"viewport\" content=\"width=device-width, initial-scale=1\">\\r\\n\\r\\n  <style type=\"text/css\">\\r\\n  /*!\\r\\n   * Bootstrap v3.3.5 (http://getbootstrap.com)\\r\\n   * Copyright 2011-2015 Twitter, Inc.\\r\\n   * Licensed under MIT (https://github.com/twbs/bootstrap/blob/master/LICENSE)\\r\\n   */\\r\\n  /*! normalize.css v3.0.3 | MIT License | github.com/necolas/normalize.css */\\r\\n  html {\\r\\n    font-family: sans-serif;\\r\\n    -ms-text-size-adjust: 100%;\\r\\n    -webkit-text-size-adjust: 100%;\\r\\n  }\\r\\n  body {\\r\\n    margin: 0;\\r\\n  }\\r\\n  h1 {\\r\\n    font-size: 1.7em;\\r\\n    font-weight: 400;\\r\\n    line-height: 1.3;\\r\\n    margin: 0.68em 0;\\r\\n  }\\r\\n  * {\\r\\n    -webkit-box-sizing: border-box;\\r\\n    -moz-box-sizing: border-box;\\r\\n    box-sizing: border-box;\\r\\n  }\\r\\n  *:before,\\r\\n  *:after {\\r\\n    -webkit-box-sizing: border-box;\\r\\n    -moz-box-sizing: border-box;\\r\\n    box-sizing: border-box;\\r\\n  }\\r\\n  html {\\r\\n    -webkit-tap-highlight-color: rgba(0, 0, 0, 0);\\r\\n  }\\r\\n  body {\\r\\n    font-family: \"Helvetica Neue\", Helvetica, Arial, sans-serif;\\r\\n    line-height: 1.66666667;\\r\\n    font-size: 13px;\\r\\n    color: #333333;\\r\\n    background-color: #ffffff;\\r\\n    margin: 2em 1em;\\r\\n  }\\r\\n  p {\\r\\n    margin: 0 0 10px;\\r\\n    font-size: 13px;\\r\\n  }\\r\\n  .alert.alert-info {\\r\\n    padding: 15px;\\r\\n    margin-bottom: 20px;\\r\\n    border: 1px solid transparent;\\r\\n    background-color: #f5f5f5;\\r\\n    border-color: #8b8d8f;\\r\\n    color: #363636;\\r\\n    margin-top: 30px;\\r\\n  }\\r\\n  .alert p {\\r\\n    padding-left: 35px;\\r\\n  }\\r\\n  a {\\r\\n    color: #0088ce;\\r\\n  }\\r\\n\\r\\n  ul {\\r\\n    position: relative;\\r\\n    padding-left: 51px;\\r\\n  }\\r\\n  p.info {\\r\\n    position: relative;\\r\\n    font-size: 15px;\\r\\n    margin-bottom: 10px;\\r\\n  }\\r\\n  p.info:before, p.info:after {\\r\\n    content: \"\";\\r\\n    position: absolute;\\r\\n    top: 9%;\\r\\n    left: 0;\\r\\n  }\\r\\n  p.info:before {\\r\\n    content: \"i\";\\r\\n    left: 3px;\\r\\n    width: 20px;\\r\\n    height: 20px;\\r\\n    font-family: serif;\\r\\n    font-size: 15px;\\r\\n    font-weight: bold;\\r\\n    line-height: 21px;\\r\\n    text-align: center;\\r\\n    color: #fff;\\r\\n    background: #4d5258;\\r\\n    border-radius: 16px;\\r\\n  }\\r\\n\\r\\n  @media (min-width: 768px) {\\r\\n    body {\\r\\n      margin: 4em 3em;\\r\\n    }\\r\\n    h1 {\\r\\n      font-size: 2.15em;}\\r\\n  }\\r\\n\\r\\n  </style>\\r\\n  </head>\\r\\n  <body>\\r\\n    <div>\\r\\n      <h1>Application is not available</h1>\\r\\n      <p>The application is currently not serving requests at this endpoint. It may not have been started or is still starting.</p>\\r\\n\\r\\n      <div class=\"alert alert-info\">\\r\\n        <p class=\"info\">\\r\\n          Possible reasons you are seeing this page:\\r\\n        </p>\\r\\n        <ul>\\r\\n          <li>\\r\\n            <strong>The host doesn\\'t exist.</strong>\\r\\n            Make sure the hostname was typed correctly and that a route matching this hostname exists.\\r\\n          </li>\\r\\n          <li>\\r\\n            <strong>The host exists, but doesn\\'t have a matching path.</strong>\\r\\n            Check if the URL path was typed correctly and that the route was created using the desired path.\\r\\n          </li>\\r\\n          <li>\\r\\n            <strong>Route and path matches, but all pods are down.</strong>\\r\\n            Make sure that the resources exposed by this route (pods, services, deployment configs, etc) have at least one pod running.\\r\\n          </li>\\r\\n        </ul>\\r\\n      </div>\\r\\n    </div>\\r\\n  </body>\\r\\n</html>\\r\\n'\n"
     ]
    }
   ],
   "source": [
    "import requests\n",
    "import json\n",
    "from json import dumps\n",
    "\n",
    "content = {\"text\": my_text}\n",
    "json_data = dumps(content)\n",
    "\n",
    "headers = {\"Content-Type\" : \"application/json\"}\n",
    "\n",
    "r = requests.post(my_route + '/predictions', data=json_data, headers=headers)\n",
    "\n",
    "print(r.content)\n",
    "\n"
   ]
  },
  {
   "cell_type": "code",
   "execution_count": null,
   "id": "219219fe-6ebf-466c-a8b0-bb693aacab25",
   "metadata": {},
   "outputs": [],
   "source": []
  }
 ],
 "metadata": {
  "kernelspec": {
   "display_name": "Python 3",
   "language": "python",
   "name": "python3"
  },
  "language_info": {
   "codemirror_mode": {
    "name": "ipython",
    "version": 3
   },
   "file_extension": ".py",
   "mimetype": "text/x-python",
   "name": "python",
   "nbconvert_exporter": "python",
   "pygments_lexer": "ipython3",
   "version": "3.8.6"
  }
 },
 "nbformat": 4,
 "nbformat_minor": 5
}
